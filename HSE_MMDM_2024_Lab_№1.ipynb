{
  "cells": [
    {
      "cell_type": "markdown",
      "metadata": {
        "colab_type": "text",
        "id": "view-in-github"
      },
      "source": [
        "<a href=\"https://colab.research.google.com/github/kamranuz/mmdm2024-lab-1/blob/master/HSE_MMDM_2024_%7C_%D0%9B%D0%B0%D0%B1%D0%B0%D1%80%D0%BE%D1%82%D0%BE%D1%80%D0%BD%D0%B0%D1%8F_%E2%84%961.ipynb\" target=\"_parent\"><img src=\"https://colab.research.google.com/assets/colab-badge.svg\" alt=\"Open In Colab\"/></a>"
      ]
    },
    {
      "cell_type": "code",
      "execution_count": 1,
      "metadata": {
        "id": "KKbGSGvt5MLb"
      },
      "outputs": [],
      "source": [
        "import math\n",
        "import random\n",
        "import pandas as pd\n",
        "import numpy as np\n",
        "import plotly.express as px\n",
        "from tqdm import tqdm\n",
        "from deap import base, creator, tools, algorithms"
      ]
    },
    {
      "cell_type": "markdown",
      "metadata": {
        "id": "Hd8UEzQO5OIl"
      },
      "source": [
        "# HSE MMDM 2024 | Lab Work №1\n",
        "\n",
        "\n",
        "-- Rules --\n",
        "- Grade = 0.3*Task1 + 0.3*Task2 + 0.4*Task3\n",
        "- You can work in small groups: 1-3 students.\n",
        "- Correct but basic solution of each task costs 8 points. To get 9, 10 be creative: think of some modification for basic algorithms; cool visualisation may also give you additional points\n",
        "- Write your own code for algorithms!\n",
        "- Deadline - TBD\n",
        "\n",
        "\n",
        "-- Team --\n",
        "\n",
        "[Mike](https://t.me/MC_Mikel) &\n",
        "[Вацлав](https://t.me/RinokuS) &\n",
        "[Kamrаn](https://t.me/kamran_uz)\n"
      ]
    },
    {
      "cell_type": "markdown",
      "metadata": {
        "id": "oyj0oI9T7n9A"
      },
      "source": [
        "### **Tickets**\n",
        "| Title | Explanation | Responsible Person |[_]|\n",
        "| --- | --- | --- |--- |\n",
        "| Preparation | Prepare space/material and etc for team work | Kamron | [x]|\n",
        "| Preparation | Create base classes for solutions | Вацлав |[_]|\n",
        "| Task 1 | Implement baseline-solution using special libraries | Вацлав |[_]|\n",
        "| Task 1 | Implement GA algorithm solution | Kamron |[_]|\n",
        "| Task 1 | Make comprehensive analysis of the implementations | Mike |[_]|\n",
        "| Task 1 | Create comprehensive visualizations | Вацлав |[_]|\n",
        "| Task 2 | Implement baseline-solution using special libraries | Kamron |[_]|\n",
        "| Task 2 | Implement NSGA II algorithm solution | Mike |[_]|\n",
        "| Task 2 | Make comprehensive analysis of the implementations | Вацлав |[_]|\n",
        "| Task 2 | Create comprehensive visualizations | Mike |[_]|\n",
        "| Task 3 | TBD | ? |[_]|\n",
        "| Post solution | Conclusions | Mike, Kamron, Вацлав|[_]|\n",
        "| Post solution | Submission | Kamron |[_]|"
      ]
    },
    {
      "cell_type": "markdown",
      "metadata": {
        "id": "Mos-qTUG8ifK"
      },
      "source": [
        "## Task 1\n",
        "Use genetic algorithm to find global extremum of given functions. Make sure your algorithm works for n dimensional objective functions.\n",
        "\n",
        "(a)\n",
        "$$\n",
        "\\max_{x,y} f(x, y)\n",
        "=\n",
        "3(1-x)^2\n",
        "\\exp\\left(-x^2-(y+1)^2\\right)\n",
        "-\n",
        "10\\left(\\frac{x}{5} - x^3 - y^5\\right)\n",
        "\\exp\\left(-x^2-y^2\\right)\n",
        "-\n",
        "\\frac{1}{3} \\exp\\left(-(x+1)^2-y^2\\right)\n",
        "$$\n",
        "(b)\n",
        "\n",
        "$$\n",
        "\\min_{x,y} f(x, y)\n",
        "=\n",
        "-0.0001\n",
        "\\left(\n",
        "    \\left\\lvert\n",
        "        \\sin(x)\n",
        "        \\sin(y)\n",
        "        \\exp\\left(\\left|\n",
        "            100 - \\frac{\\sqrt{x^2 + y^2}}{\\pi}\n",
        "            \\right|\\right)\n",
        "    \\right\\rvert\n",
        "    +\n",
        "    1\n",
        "\\right)^{0.1}\n",
        "\\quad\n",
        "(x, y) \\in [-10, 10]^2\n",
        "$$"
      ]
    },
    {
      "cell_type": "code",
      "execution_count": 2,
      "metadata": {
        "id": "TyhUcKBX8juC"
      },
      "outputs": [],
      "source": [
        "## Task 1\n",
        "\n",
        "f_a = lambda x, y: 3*(1-x)**2 * math.exp(-x**2-(y+1)**2) - 10*(x/5 - x**3 - y**5) * math.exp(-x**2-y**2) - 1/3 * math.exp(-(x+1)**2-y**2)\n",
        "f_b = lambda x, y: -0.0001 * (abs(math.sin(x) * math.sin(y) * math.exp(abs(100 - math.sqrt(x**2 + y**2)/math.pi)) + 1)**0.1)"
      ]
    },
    {
      "cell_type": "code",
      "execution_count": 32,
      "metadata": {},
      "outputs": [],
      "source": [
        "# @title baseline solution with libraries by Vatslav\n",
        "\n",
        "def evaluate_a(individual):\n",
        "    x, y = individual\n",
        "    return f_a(x, y),\n",
        "\n",
        "def evaluate_b(individual):\n",
        "    x, y = individual\n",
        "    return f_b(x, y),\n",
        "\n",
        "def perform_genetic_algorithm(evaluate_function, handler=\"maximization\", generations=100, size=100, verbose=False):\n",
        "    weights = (1.0,) if handler == \"maximization\" else (-1.0,)\n",
        "\n",
        "    try:\n",
        "        del creator.Fitness\n",
        "        del creator.Individual\n",
        "    except Exception as e:\n",
        "        pass\n",
        "\n",
        "    creator.create(\"Fitness\", base.Fitness, weights=weights)\n",
        "    creator.create(\"Individual\", list, fitness=creator.Fitness)\n",
        "\n",
        "    toolbox = base.Toolbox()\n",
        "    toolbox.register(\"attr_float\", random.uniform, -100, 100)\n",
        "    toolbox.register(\"individual\", tools.initRepeat, creator.Individual, toolbox.attr_float, n=2)\n",
        "    toolbox.register(\"population\", tools.initRepeat, list, toolbox.individual)\n",
        "\n",
        "    toolbox.register(\"mate\", tools.cxBlend, alpha=0.5)\n",
        "    toolbox.register(\"mutate\", tools.mutGaussian, mu=0, sigma=1, indpb=0.2)\n",
        "    toolbox.register(\"select\", tools.selTournament, tournsize=3)\n",
        "    toolbox.register(\"evaluate\", evaluate_function)\n",
        "\n",
        "    population = toolbox.population(n=size)\n",
        "    algorithms.eaMuPlusLambda(population, toolbox, mu=50, lambda_=200, cxpb=0.6, mutpb=0.3, ngen=generations, verbose=verbose)\n",
        "\n",
        "    # Get the best individual and its fitness value\n",
        "    best_ind = tools.selBest(population, 1)[0]\n",
        "    best_value = f_a(*best_ind)\n",
        "\n",
        "    return best_ind, best_value"
      ]
    },
    {
      "cell_type": "code",
      "execution_count": 41,
      "metadata": {},
      "outputs": [
        {
          "name": "stdout",
          "output_type": "stream",
          "text": [
            "For function f_a DEAP algo found best individual '[-0.009317589860859198, 1.5813679672836887]' with function value '8.10621358944234'\n",
            "For function f_b DEAP algo found best individual '[1.349300561905505, -1.3480641786620327]' with function value '-0.5436560424404089'\n"
          ]
        }
      ],
      "source": [
        "individual_a, value_a = perform_genetic_algorithm(evaluate_a)\n",
        "print(f\"For function f_a DEAP algo found best individual '{individual_a}' with function value '{value_a}'\")\n",
        "\n",
        "individual_b, value_b = perform_genetic_algorithm(evaluate_b, handler=\"minimization\")\n",
        "print(f\"For function f_b DEAP algo found best individual '{individual_b}' with function value '{value_b}'\")"
      ]
    },
    {
      "cell_type": "code",
      "execution_count": 27,
      "metadata": {
        "cellView": "form",
        "id": "OcpeGiz7EK5T"
      },
      "outputs": [
        {
          "ename": "AttributeError",
          "evalue": "'function' object has no attribute 'shape'",
          "output_type": "error",
          "traceback": [
            "\u001b[1;31m---------------------------------------------------------------------------\u001b[0m",
            "\u001b[1;31mAttributeError\u001b[0m                            Traceback (most recent call last)",
            "Cell \u001b[1;32mIn[27], line 68\u001b[0m\n\u001b[0;32m     65\u001b[0m         population \u001b[38;5;241m=\u001b[39m selection(population, points, size\u001b[38;5;241m=\u001b[39msize)\n\u001b[0;32m     66\u001b[0m     \u001b[38;5;28;01mreturn\u001b[39;00m log, population\n\u001b[1;32m---> 68\u001b[0m log, answer \u001b[38;5;241m=\u001b[39m \u001b[43mgenetic_algorithm\u001b[49m\u001b[43m(\u001b[49m\u001b[43mf_b\u001b[49m\u001b[43m,\u001b[49m\u001b[43m \u001b[49m\u001b[43mgenerations\u001b[49m\u001b[38;5;241;43m=\u001b[39;49m\u001b[38;5;241;43m100\u001b[39;49m\u001b[43m,\u001b[49m\u001b[43m \u001b[49m\u001b[43msize\u001b[49m\u001b[38;5;241;43m=\u001b[39;49m\u001b[38;5;241;43m100\u001b[39;49m\u001b[43m,\u001b[49m\u001b[43m \u001b[49m\u001b[43mcrossover_size\u001b[49m\u001b[38;5;241;43m=\u001b[39;49m\u001b[38;5;241;43m100\u001b[39;49m\u001b[43m,\u001b[49m\u001b[43m \u001b[49m\u001b[43mmutate_size\u001b[49m\u001b[38;5;241;43m=\u001b[39;49m\u001b[38;5;241;43m10\u001b[39;49m\u001b[43m)\u001b[49m\n",
            "Cell \u001b[1;32mIn[27], line 54\u001b[0m, in \u001b[0;36mgenetic_algorithm\u001b[1;34m(points, generations, size, crossover_size, mutate_size)\u001b[0m\n\u001b[0;32m     46\u001b[0m \u001b[38;5;28;01mdef\u001b[39;00m \u001b[38;5;21mgenetic_algorithm\u001b[39m(points, generations\u001b[38;5;241m=\u001b[39m\u001b[38;5;241m100\u001b[39m, size\u001b[38;5;241m=\u001b[39m\u001b[38;5;241m100\u001b[39m, crossover_size\u001b[38;5;241m=\u001b[39m\u001b[38;5;241m100\u001b[39m, mutate_size\u001b[38;5;241m=\u001b[39m\u001b[38;5;241m10\u001b[39m):\n\u001b[0;32m     47\u001b[0m     log \u001b[38;5;241m=\u001b[39m {\n\u001b[0;32m     48\u001b[0m         \u001b[38;5;124m'\u001b[39m\u001b[38;5;124mgeneration\u001b[39m\u001b[38;5;124m'\u001b[39m:[],\n\u001b[0;32m     49\u001b[0m         \u001b[38;5;124m'\u001b[39m\u001b[38;5;124mmin\u001b[39m\u001b[38;5;124m'\u001b[39m: [],\n\u001b[1;32m   (...)\u001b[0m\n\u001b[0;32m     52\u001b[0m         \u001b[38;5;124m'\u001b[39m\u001b[38;5;124mpopulation\u001b[39m\u001b[38;5;124m'\u001b[39m: []\n\u001b[0;32m     53\u001b[0m     }\n\u001b[1;32m---> 54\u001b[0m     population \u001b[38;5;241m=\u001b[39m \u001b[43mgenerate_population\u001b[49m\u001b[43m(\u001b[49m\u001b[43mpoints\u001b[49m\u001b[43m,\u001b[49m\u001b[43m \u001b[49m\u001b[43msize\u001b[49m\u001b[38;5;241;43m=\u001b[39;49m\u001b[43msize\u001b[49m\u001b[43m)\u001b[49m\n\u001b[0;32m     55\u001b[0m     \u001b[38;5;28;01mfor\u001b[39;00m i \u001b[38;5;129;01min\u001b[39;00m tqdm(\u001b[38;5;28mrange\u001b[39m(generations)):\n\u001b[0;32m     56\u001b[0m         selection_propabilty_temp \u001b[38;5;241m=\u001b[39m np\u001b[38;5;241m.\u001b[39marray([f_fitness(organism, points) \u001b[38;5;28;01mfor\u001b[39;00m organism \u001b[38;5;129;01min\u001b[39;00m population])\n",
            "Cell \u001b[1;32mIn[27], line 3\u001b[0m, in \u001b[0;36mgenerate_population\u001b[1;34m(points, size)\u001b[0m\n\u001b[0;32m      2\u001b[0m \u001b[38;5;28;01mdef\u001b[39;00m \u001b[38;5;21mgenerate_population\u001b[39m(points, size\u001b[38;5;241m=\u001b[39m\u001b[38;5;241m100\u001b[39m):\n\u001b[1;32m----> 3\u001b[0m     n \u001b[38;5;241m=\u001b[39m \u001b[43mpoints\u001b[49m\u001b[38;5;241;43m.\u001b[39;49m\u001b[43mshape\u001b[49m[\u001b[38;5;241m0\u001b[39m]\n\u001b[0;32m      4\u001b[0m     identity \u001b[38;5;241m=\u001b[39m np\u001b[38;5;241m.\u001b[39meye(n)\n\u001b[0;32m      5\u001b[0m     population \u001b[38;5;241m=\u001b[39m [identity[np\u001b[38;5;241m.\u001b[39mrandom\u001b[38;5;241m.\u001b[39mpermutation(\u001b[38;5;28mrange\u001b[39m(n))] \u001b[38;5;28;01mfor\u001b[39;00m _ \u001b[38;5;129;01min\u001b[39;00m \u001b[38;5;28mrange\u001b[39m(size)]\n",
            "\u001b[1;31mAttributeError\u001b[0m: 'function' object has no attribute 'shape'"
          ]
        }
      ],
      "source": [
        "# @title GA algorithm baseline by Kamron\n",
        "def generate_population(points, size=100):\n",
        "    n  = points.shape[0]\n",
        "    identity = np.eye(n)\n",
        "    population = [identity[np.random.permutation(range(n))] for _ in range(size)]\n",
        "    return population\n",
        "\n",
        "def crossover(population, add_size=100):\n",
        "    popultaion_pairs_sample_id =  np.random.choice(range(len(population)),(add_size,2))\n",
        "    next_population = [population[id_f]@population[id_m] for id_f, id_m in popultaion_pairs_sample_id]\n",
        "    next_population += population\n",
        "    return next_population\n",
        "\n",
        "def swap_random_genes(organism):\n",
        "    organism = organism.copy()\n",
        "    id = range(len(organism))\n",
        "    id_x, id_y = np.random.choice(id, 2)\n",
        "    organism[[id_x, id_y]] = organism[[id_y, id_x]]\n",
        "    return organism\n",
        "\n",
        "def mutate(population, add_size=100):\n",
        "    next_population = []\n",
        "    popultaion_sample_id =  np.random.choice(range(len(population)),add_size)\n",
        "    next_population = [swap_random_genes(population[organism_id]) for organism_id in popultaion_sample_id]\n",
        "    next_population += population\n",
        "    return next_population\n",
        "\n",
        "\n",
        "def f_fitness(organism, points):\n",
        "    gens_temp_calc = (organism-np.roll(organism,1,axis=0))@points\n",
        "    fit_num = sum(np.sqrt(np.sum(gens_temp_calc*gens_temp_calc,axis=1)))\n",
        "    return fit_num\n",
        "\n",
        "def selection(population, points, size=100):\n",
        "    selection_propabilty_temp = np.array([f_fitness(organism, points) for organism in population])\n",
        "\n",
        "    selection_propabilty_temp = max(selection_propabilty_temp)-selection_propabilty_temp\n",
        "    selection_propabilty      = selection_propabilty_temp/sum(selection_propabilty_temp)\n",
        "\n",
        "    population_id = range(len(population))\n",
        "    selected_population_id = np.random.choice(population_id,size,replace=False,p=selection_propabilty)\n",
        "    selected_population = np.array(population)[selected_population_id]\n",
        "    selected_population = list(selected_population)\n",
        "    return selected_population\n",
        "\n",
        "def genetic_algorithm(points, generations=100, size=100, crossover_size=100, mutate_size=10):\n",
        "    log = {\n",
        "        'generation':[],\n",
        "        'min': [],\n",
        "        'mean': [],\n",
        "        'max': [],\n",
        "        'population': []\n",
        "    }\n",
        "    population = generate_population(points, size=size)\n",
        "    for i in tqdm(range(generations)):\n",
        "        selection_propabilty_temp = np.array([f_fitness(organism, points) for organism in population])\n",
        "        log['generation'] += [i]\n",
        "        log['min']        += [min(selection_propabilty_temp)]\n",
        "        log['mean']       += [np.mean(selection_propabilty_temp)]\n",
        "        log['max']        += [max(selection_propabilty_temp)]\n",
        "        log['population'] += [population]\n",
        "\n",
        "        population = mutate(population, add_size=mutate_size)\n",
        "        population = crossover(population, add_size=crossover_size)\n",
        "        population = selection(population, points, size=size)\n",
        "    return log, population\n",
        "\n",
        "log, answer = genetic_algorithm(points, generations=100, size=100, crossover_size=100, mutate_size=10)"
      ]
    },
    {
      "cell_type": "markdown",
      "metadata": {
        "id": "ZxxI-L2A8lC9"
      },
      "source": [
        "## Task 2\n",
        "\n",
        "Find pareto front for the given multi-objective optimisation problem using NSGA II algorithm. Take n = 3, but you may try other values as well.\n",
        "$$\n",
        "\\min_{x} = \\begin{cases}\n",
        "    f_1(x)\n",
        "    =\n",
        "    1\n",
        "    -\n",
        "    \\exp\\left(\n",
        "        -\\sum_{i=1}^{n}\n",
        "            \\left(\n",
        "                x_i - \\sqrt{\\frac{1}{n}}\n",
        "            \\right)^2\n",
        "        \\right) \\\\\n",
        "    f_2(x)\n",
        "    =\n",
        "    1\n",
        "    -\n",
        "    \\exp\\left(\n",
        "        -\\sum_{i=1}^{n}\n",
        "            \\left(\n",
        "                x_i + \\sqrt{\\frac{1}{n}}\n",
        "            \\right)^2\n",
        "        \\right)\n",
        "\\end{cases}\n",
        "\\quad\n",
        "-4 \\leq x_i \\leq 4, \\quad 1 \\leq i \\leq n\n",
        "$$\n"
      ]
    },
    {
      "cell_type": "code",
      "execution_count": null,
      "metadata": {
        "id": "qu2xZhnH8lC9"
      },
      "outputs": [],
      "source": [
        "## Task 2\n",
        "\n",
        "# head-on implementation\n",
        "f_1 = lambda x, n: 1 - math.exp(-sum((xi - math.sqrt(1/n))**2 for xi in x))\n",
        "f_2 = lambda x, n: 1 - math.exp(-sum((xi + math.sqrt(1/n))**2 for xi in x))\n",
        "\n",
        "\n",
        "# numpy implementation\n",
        "f_1 = lambda x, n: 1 - np.exp(-np.sum((x - np.sqrt(1/n))**2))\n",
        "f_2 = lambda x, n: 1 - np.exp(-np.sum((x + np.sqrt(1/n))**2))"
      ]
    },
    {
      "cell_type": "markdown",
      "metadata": {
        "id": "FpyeL9dD8oMP"
      },
      "source": [
        "## Task 3\n",
        "\n",
        "TBD"
      ]
    },
    {
      "cell_type": "code",
      "execution_count": null,
      "metadata": {
        "id": "KARHPeP98oMP"
      },
      "outputs": [],
      "source": [
        "## Task 3"
      ]
    }
  ],
  "metadata": {
    "colab": {
      "authorship_tag": "ABX9TyMocUYe8bDZimQ45XdEjy9n",
      "include_colab_link": true,
      "provenance": [],
      "toc_visible": true
    },
    "kernelspec": {
      "display_name": "Python 3",
      "name": "python3"
    },
    "language_info": {
      "codemirror_mode": {
        "name": "ipython",
        "version": 3
      },
      "file_extension": ".py",
      "mimetype": "text/x-python",
      "name": "python",
      "nbconvert_exporter": "python",
      "pygments_lexer": "ipython3",
      "version": "3.11.8"
    }
  },
  "nbformat": 4,
  "nbformat_minor": 0
}
