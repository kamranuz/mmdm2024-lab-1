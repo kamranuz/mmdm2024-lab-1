{
  "nbformat": 4,
  "nbformat_minor": 0,
  "metadata": {
    "colab": {
      "provenance": [],
      "toc_visible": true,
      "authorship_tag": "ABX9TyMocUYe8bDZimQ45XdEjy9n",
      "include_colab_link": true
    },
    "kernelspec": {
      "name": "python3",
      "display_name": "Python 3"
    },
    "language_info": {
      "name": "python"
    }
  },
  "cells": [
    {
      "cell_type": "markdown",
      "metadata": {
        "id": "view-in-github",
        "colab_type": "text"
      },
      "source": [
        "<a href=\"https://colab.research.google.com/github/kamranuz/mmdm2024-lab-1/blob/master/HSE_MMDM_2024_%7C_%D0%9B%D0%B0%D0%B1%D0%B0%D1%80%D0%BE%D1%82%D0%BE%D1%80%D0%BD%D0%B0%D1%8F_%E2%84%961.ipynb\" target=\"_parent\"><img src=\"https://colab.research.google.com/assets/colab-badge.svg\" alt=\"Open In Colab\"/></a>"
      ]
    },
    {
      "cell_type": "code",
      "execution_count": null,
      "metadata": {
        "id": "KKbGSGvt5MLb"
      },
      "outputs": [],
      "source": [
        "import math\n",
        "import pandas as pd\n",
        "import numpy as np\n",
        "import plotly.express as px\n",
        "from tqdm import tqdm"
      ]
    },
    {
      "cell_type": "markdown",
      "source": [
        "# HSE MMDM 2024 | Lab Work №1\n",
        "\n",
        "\n",
        "-- Rules --\n",
        "- Grade = 0.3*Task1 + 0.3*Task2 + 0.4*Task3\n",
        "- You can work in small groups: 1-3 students.\n",
        "- Correct but basic solution of each task costs 8 points. To get 9, 10 be creative: think of some modification for basic algorithms; cool visualisation may also give you additional points\n",
        "- Write your own code for algorithms!\n",
        "- Deadline - TBD\n",
        "\n",
        "\n",
        "-- Team --\n",
        "\n",
        "[Mike](https://t.me/MC_Mikel) &\n",
        "[Вацлав](https://t.me/RinokuS) &\n",
        "[Kamrаn](https://t.me/kamran_uz)\n"
      ],
      "metadata": {
        "id": "Hd8UEzQO5OIl"
      }
    },
    {
      "cell_type": "markdown",
      "source": [
        "### **Tickets**\n",
        "| Title | Explanation | Responsible Person |[_]|\n",
        "| --- | --- | --- |--- |\n",
        "| Preparation | Prepare space/material and etc for team work | Kamron | [x]|\n",
        "| Preparation | Create base classes for solutions | Вацлав |[_]|\n",
        "| Task 1 | Implement baseline-solution using special libraries | Вацлав |[_]|\n",
        "| Task 1 | Implement GA algorithm solution | Kamron |[_]|\n",
        "| Task 1 | Make comprehensive analysis of the implementations | Mike |[_]|\n",
        "| Task 1 | Create comprehensive visualizations | Вацлав |[_]|\n",
        "| Task 2 | Implement baseline-solution using special libraries | Kamron |[_]|\n",
        "| Task 2 | Implement NSGA II algorithm solution | Mike |[_]|\n",
        "| Task 2 | Make comprehensive analysis of the implementations | Вацлав |[_]|\n",
        "| Task 2 | Create comprehensive visualizations | Mike |[_]|\n",
        "| Task 3 | TBD | ? |[_]|\n",
        "| Post solution | Conclusions | Mike, Kamron, Вацлав|[_]|\n",
        "| Post solution | Submission | Kamron |[_]|"
      ],
      "metadata": {
        "id": "oyj0oI9T7n9A"
      }
    },
    {
      "cell_type": "markdown",
      "source": [
        "## Task 1\n",
        "Use genetic algorithm to find global extremum of given functions. Make sure your algorithm works for n dimensional objective functions.\n",
        "\n",
        "(a)\n",
        "$$\n",
        "\\max_{x,y} f(x, y)\n",
        "=\n",
        "3(1-x)^2\n",
        "\\exp\\left(-x^2-(y+1)^2\\right)\n",
        "-\n",
        "10\\left(\\frac{x}{5} - x^3 - y^5\\right)\n",
        "\\exp\\left(-x^2-y^2\\right)\n",
        "-\n",
        "\\frac{1}{3} \\exp\\left(-(x+1)^2-y^2\\right)\n",
        "$$\n",
        "(b)\n",
        "\n",
        "$$\n",
        "\\min_{x,y} f(x, y)\n",
        "=\n",
        "-0.0001\n",
        "\\left(\n",
        "    \\left\\lvert\n",
        "        \\sin(x)\n",
        "        \\sin(y)\n",
        "        \\exp\\left(\\left|\n",
        "            100 - \\frac{\\sqrt{x^2 + y^2}}{\\pi}\n",
        "            \\right|\\right)\n",
        "    \\right\\rvert\n",
        "    +\n",
        "    1\n",
        "\\right)^{0.1}\n",
        "\\quad\n",
        "(x, y) \\in [-10, 10]^2\n",
        "$$"
      ],
      "metadata": {
        "id": "Mos-qTUG8ifK"
      }
    },
    {
      "cell_type": "code",
      "source": [
        "## Task 1\n",
        "\n",
        "f_a = lambda x, y: 3*(1-x)**2 * math.exp(-x**2-(y+1)**2) - 10*(x/5 - x**3 - y**5) * math.exp(-x**2-y**2) - 1/3 * math.exp(-(x+1)**2-y**2)\n",
        "f_b = lambda x, y: -0.0001 * (abs(math.sin(x) * math.sin(y) * math.exp(abs(100 - math.sqrt(x**2 + y**2)/math.pi)) + 1)**0.1"
      ],
      "metadata": {
        "id": "TyhUcKBX8juC"
      },
      "execution_count": null,
      "outputs": []
    },
    {
      "cell_type": "code",
      "source": [
        "# @title GA algorithm baseline by Kamron\n",
        "def generate_population(points, size=100):\n",
        "    n  = points.shape[0]\n",
        "    identity = np.eye(n)\n",
        "    population = [identity[np.random.permutation(range(n))] for _ in range(size)]\n",
        "    return population\n",
        "\n",
        "def crossover(population, add_size=100):\n",
        "    popultaion_pairs_sample_id =  np.random.choice(range(len(population)),(add_size,2))\n",
        "    next_population = [population[id_f]@population[id_m] for id_f, id_m in popultaion_pairs_sample_id]\n",
        "    next_population += population\n",
        "    return next_population\n",
        "\n",
        "def swap_random_genes(organism):\n",
        "    organism = organism.copy()\n",
        "    id = range(len(organism))\n",
        "    id_x, id_y = np.random.choice(id, 2)\n",
        "    organism[[id_x, id_y]] = organism[[id_y, id_x]]\n",
        "    return organism\n",
        "\n",
        "def mutate(population, add_size=100):\n",
        "    next_population = []\n",
        "    popultaion_sample_id =  np.random.choice(range(len(population)),add_size)\n",
        "    next_population = [swap_random_genes(population[organism_id]) for organism_id in popultaion_sample_id]\n",
        "    next_population += population\n",
        "    return next_population\n",
        "\n",
        "\n",
        "def f_fitness(organism, points):\n",
        "    gens_temp_calc = (organism-np.roll(organism,1,axis=0))@points\n",
        "    fit_num = sum(np.sqrt(np.sum(gens_temp_calc*gens_temp_calc,axis=1)))\n",
        "    return fit_num\n",
        "\n",
        "def selection(population, points, size=100):\n",
        "    selection_propabilty_temp = np.array([f_fitness(organism, points) for organism in population])\n",
        "\n",
        "    selection_propabilty_temp = max(selection_propabilty_temp)-selection_propabilty_temp\n",
        "    selection_propabilty      = selection_propabilty_temp/sum(selection_propabilty_temp)\n",
        "\n",
        "    population_id = range(len(population))\n",
        "    selected_population_id = np.random.choice(population_id,size,replace=False,p=selection_propabilty)\n",
        "    selected_population = np.array(population)[selected_population_id]\n",
        "    selected_population = list(selected_population)\n",
        "    return selected_population\n",
        "\n",
        "def genetic_algorithm(points, generations=100, size=100, crossover_size=100, mutate_size=10):\n",
        "    log = {\n",
        "        'generation':[],\n",
        "        'min': [],\n",
        "        'mean': [],\n",
        "        'max': [],\n",
        "        'population': []\n",
        "    }\n",
        "    population = generate_population(points, size=size)\n",
        "    for i in tqdm(range(generations)):\n",
        "        selection_propabilty_temp = np.array([f_fitness(organism, points) for organism in population])\n",
        "        log['generation'] += [i]\n",
        "        log['min']        += [min(selection_propabilty_temp)]\n",
        "        log['mean']       += [np.mean(selection_propabilty_temp)]\n",
        "        log['max']        += [max(selection_propabilty_temp)]\n",
        "        log['population'] += [population]\n",
        "\n",
        "        population = mutate(population, add_size=mutate_size)\n",
        "        population = crossover(population, add_size=crossover_size)\n",
        "        population = selection(population, points, size=size)\n",
        "    return log, population\n",
        "\n",
        "log, answer = genetic_algorithm(points, generations=100, size=100, crossover_size=100, mutate_size=10)"
      ],
      "metadata": {
        "cellView": "form",
        "id": "OcpeGiz7EK5T"
      },
      "execution_count": null,
      "outputs": []
    },
    {
      "cell_type": "markdown",
      "source": [
        "## Task 2\n",
        "\n",
        "Find pareto front for the given multi-objective optimisation problem using NSGA II algorithm. Take n = 3, but you may try other values as well.\n",
        "$$\n",
        "\\min_{x} = \\begin{cases}\n",
        "    f_1(x)\n",
        "    =\n",
        "    1\n",
        "    -\n",
        "    \\exp\\left(\n",
        "        -\\sum_{i=1}^{n}\n",
        "            \\left(\n",
        "                x_i - \\sqrt{\\frac{1}{n}}\n",
        "            \\right)^2\n",
        "        \\right) \\\\\n",
        "    f_2(x)\n",
        "    =\n",
        "    1\n",
        "    -\n",
        "    \\exp\\left(\n",
        "        -\\sum_{i=1}^{n}\n",
        "            \\left(\n",
        "                x_i + \\sqrt{\\frac{1}{n}}\n",
        "            \\right)^2\n",
        "        \\right)\n",
        "\\end{cases}\n",
        "\\quad\n",
        "-4 \\leq x_i \\leq 4, \\quad 1 \\leq i \\leq n\n",
        "$$\n"
      ],
      "metadata": {
        "id": "ZxxI-L2A8lC9"
      }
    },
    {
      "cell_type": "code",
      "source": [
        "## Task 2\n",
        "\n",
        "# head-on implementation\n",
        "f_1 = lambda x, n: 1 - math.exp(-sum((xi - math.sqrt(1/n))**2 for xi in x))\n",
        "f_2 = lambda x, n: 1 - math.exp(-sum((xi + math.sqrt(1/n))**2 for xi in x))\n",
        "\n",
        "\n",
        "# numpy implementation\n",
        "f_1 = lambda x, n: 1 - np.exp(-np.sum((x - np.sqrt(1/n))**2))\n",
        "f_2 = lambda x, n: 1 - np.exp(-np.sum((x + np.sqrt(1/n))**2))"
      ],
      "metadata": {
        "id": "qu2xZhnH8lC9"
      },
      "execution_count": null,
      "outputs": []
    },
    {
      "cell_type": "markdown",
      "source": [
        "## Task 3\n",
        "\n",
        "TBD"
      ],
      "metadata": {
        "id": "FpyeL9dD8oMP"
      }
    },
    {
      "cell_type": "code",
      "source": [
        "## Task 3"
      ],
      "metadata": {
        "id": "KARHPeP98oMP"
      },
      "execution_count": null,
      "outputs": []
    }
  ]
}